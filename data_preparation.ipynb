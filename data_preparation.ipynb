{
 "cells": [
  {
   "cell_type": "code",
   "execution_count": 2,
   "metadata": {},
   "outputs": [],
   "source": [
    "import pandas as pd\n",
    "import numpy as np\n",
    "import yfinance as yf\n",
    "import json\n",
    "import ta\n",
    "import matplotlib.pyplot as pl"
   ]
  },
  {
   "cell_type": "code",
   "execution_count": 1,
   "metadata": {},
   "outputs": [],
   "source": [
    "all_stocks = ['NVR', 'BKNG', 'CMG', 'AZO' ]"
   ]
  },
  {
   "cell_type": "code",
   "execution_count": 4,
   "metadata": {},
   "outputs": [
    {
     "name": "stderr",
     "output_type": "stream",
     "text": [
      "[*********************100%%**********************]  4 of 4 completed\n"
     ]
    },
    {
     "data": {
      "text/html": [
       "<div>\n",
       "<style scoped>\n",
       "    .dataframe tbody tr th:only-of-type {\n",
       "        vertical-align: middle;\n",
       "    }\n",
       "\n",
       "    .dataframe tbody tr th {\n",
       "        vertical-align: top;\n",
       "    }\n",
       "\n",
       "    .dataframe thead th {\n",
       "        text-align: right;\n",
       "    }\n",
       "</style>\n",
       "<table border=\"1\" class=\"dataframe\">\n",
       "  <thead>\n",
       "    <tr style=\"text-align: right;\">\n",
       "      <th>Ticker</th>\n",
       "      <th>AZO</th>\n",
       "      <th>BKNG</th>\n",
       "      <th>CMG</th>\n",
       "      <th>NVR</th>\n",
       "    </tr>\n",
       "    <tr>\n",
       "      <th>Date</th>\n",
       "      <th></th>\n",
       "      <th></th>\n",
       "      <th></th>\n",
       "      <th></th>\n",
       "    </tr>\n",
       "  </thead>\n",
       "  <tbody>\n",
       "    <tr>\n",
       "      <th>2013-01-02</th>\n",
       "      <td>356.880005</td>\n",
       "      <td>635.308105</td>\n",
       "      <td>6.0212</td>\n",
       "      <td>930.130005</td>\n",
       "    </tr>\n",
       "    <tr>\n",
       "      <th>2013-01-03</th>\n",
       "      <td>356.140015</td>\n",
       "      <td>645.588074</td>\n",
       "      <td>6.0190</td>\n",
       "      <td>949.000000</td>\n",
       "    </tr>\n",
       "    <tr>\n",
       "      <th>2013-01-04</th>\n",
       "      <td>360.850006</td>\n",
       "      <td>645.269592</td>\n",
       "      <td>6.0036</td>\n",
       "      <td>954.489990</td>\n",
       "    </tr>\n",
       "    <tr>\n",
       "      <th>2013-01-07</th>\n",
       "      <td>356.170013</td>\n",
       "      <td>654.196167</td>\n",
       "      <td>5.9918</td>\n",
       "      <td>966.890015</td>\n",
       "    </tr>\n",
       "    <tr>\n",
       "      <th>2013-01-08</th>\n",
       "      <td>348.250000</td>\n",
       "      <td>654.235901</td>\n",
       "      <td>5.9552</td>\n",
       "      <td>974.500000</td>\n",
       "    </tr>\n",
       "  </tbody>\n",
       "</table>\n",
       "</div>"
      ],
      "text/plain": [
       "Ticker             AZO        BKNG     CMG         NVR\n",
       "Date                                                  \n",
       "2013-01-02  356.880005  635.308105  6.0212  930.130005\n",
       "2013-01-03  356.140015  645.588074  6.0190  949.000000\n",
       "2013-01-04  360.850006  645.269592  6.0036  954.489990\n",
       "2013-01-07  356.170013  654.196167  5.9918  966.890015\n",
       "2013-01-08  348.250000  654.235901  5.9552  974.500000"
      ]
     },
     "execution_count": 4,
     "metadata": {},
     "output_type": "execute_result"
    }
   ],
   "source": [
    "start_date = '2013-01-01'\n",
    "end_date = '2023-03-31'\n",
    "\n",
    "# Download the data\n",
    "df = yf.download(all_stocks, start=start_date, end=end_date)['Adj Close']\n",
    "\n",
    "# Save the data to a CSV file\n",
    "df.to_csv('stocks_data.csv')\n",
    "\n",
    "# Display the 1st 5 records\n",
    "df.head(5)"
   ]
  },
  {
   "cell_type": "code",
   "execution_count": null,
   "metadata": {},
   "outputs": [],
   "source": [
    "# plot the 4 stocks together \n"
   ]
  }
 ],
 "metadata": {
  "kernelspec": {
   "display_name": "aws",
   "language": "python",
   "name": "python3"
  },
  "language_info": {
   "codemirror_mode": {
    "name": "ipython",
    "version": 3
   },
   "file_extension": ".py",
   "mimetype": "text/x-python",
   "name": "python",
   "nbconvert_exporter": "python",
   "pygments_lexer": "ipython3",
   "version": "3.10.13"
  }
 },
 "nbformat": 4,
 "nbformat_minor": 2
}
