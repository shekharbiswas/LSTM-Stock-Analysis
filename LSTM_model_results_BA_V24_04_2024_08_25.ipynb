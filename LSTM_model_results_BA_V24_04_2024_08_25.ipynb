{
  "cells": [
    {
      "cell_type": "markdown",
      "metadata": {
        "id": "vsUC6aME-vU-"
      },
      "source": [
        "Developing an LSTM model to predict future stock prices involves several steps.\n",
        "These steps include data preprocessing, model building, hyperparameter tuning, and evaluation.\n",
        "\n",
        "Below, I'll outline the steps and provide code snippets for each part.\n",
        "\n",
        "\n",
        "Check for varying Timeframe (50 Years - 20 Years - 10 years )"
      ]
    },
    {
      "cell_type": "markdown",
      "metadata": {
        "id": "gKvf0yo3-vVC"
      },
      "source": [
        "First, we need to collect and preprocess the historical stock price data.\n",
        "\n",
        "This typically involves normalizing the data and creating sequences for the LSTM model."
      ]
    },
    {
      "cell_type": "markdown",
      "metadata": {
        "id": "0RujP507-vVC"
      },
      "source": [
        "\"Deep Learning\" by Ian Goodfellow, Yoshua Bengio, and Aaron Courville"
      ]
    },
    {
      "cell_type": "markdown",
      "metadata": {
        "id": "aNBxKPtz-vVD"
      },
      "source": [
        "Hypothesis: How the best parameters for these 4 stocks work for 4 tech stocks (AAPL, AMZN, GOOG, MSFT) and see the results."
      ]
    },
    {
      "cell_type": "code",
      "execution_count": 1,
      "metadata": {
        "colab": {
          "base_uri": "https://localhost:8080/"
        },
        "id": "ypnzm6-u-vVE",
        "outputId": "189d45d6-6a99-471a-b184-abb00249c7f6"
      },
      "outputs": [],
      "source": [
        "\n",
        "import numpy as np\n",
        "import pandas as pd\n",
        "from sklearn.preprocessing import MinMaxScaler\n",
        "from sklearn.model_selection import train_test_split\n",
        "import matplotlib.pyplot as plt\n",
        "import tensorflow as tf\n",
        "from tensorflow.keras.models import Sequential\n",
        "from tensorflow.keras.layers import LSTM, Dense, Dropout\n",
        "from tensorflow.keras.callbacks import EarlyStopping\n",
        "from tensorflow.keras.optimizers import Adam"
      ]
    },
    {
      "cell_type": "code",
      "execution_count": 2,
      "metadata": {
        "colab": {
          "base_uri": "https://localhost:8080/",
          "height": 112
        },
        "id": "-Fg07XkH-vVF",
        "outputId": "053cb59d-4700-4d74-f79b-66457c89b976"
      },
      "outputs": [
        {
          "data": {
            "text/html": [
              "<div>\n",
              "<style scoped>\n",
              "    .dataframe tbody tr th:only-of-type {\n",
              "        vertical-align: middle;\n",
              "    }\n",
              "\n",
              "    .dataframe tbody tr th {\n",
              "        vertical-align: top;\n",
              "    }\n",
              "\n",
              "    .dataframe thead th {\n",
              "        text-align: right;\n",
              "    }\n",
              "</style>\n",
              "<table border=\"1\" class=\"dataframe\">\n",
              "  <thead>\n",
              "    <tr style=\"text-align: right;\">\n",
              "      <th></th>\n",
              "      <th>Date</th>\n",
              "      <th>BA</th>\n",
              "      <th>DE</th>\n",
              "      <th>MSI</th>\n",
              "      <th>SPGI</th>\n",
              "    </tr>\n",
              "  </thead>\n",
              "  <tbody>\n",
              "    <tr>\n",
              "      <th>0</th>\n",
              "      <td>1974-01-02</td>\n",
              "      <td>0.130799</td>\n",
              "      <td>1.094406</td>\n",
              "      <td>2.354811</td>\n",
              "      <td>0.191056</td>\n",
              "    </tr>\n",
              "    <tr>\n",
              "      <th>1</th>\n",
              "      <td>1974-01-03</td>\n",
              "      <td>0.132121</td>\n",
              "      <td>1.148318</td>\n",
              "      <td>2.440219</td>\n",
              "      <td>0.200771</td>\n",
              "    </tr>\n",
              "  </tbody>\n",
              "</table>\n",
              "</div>"
            ],
            "text/plain": [
              "         Date        BA        DE       MSI      SPGI\n",
              "0  1974-01-02  0.130799  1.094406  2.354811  0.191056\n",
              "1  1974-01-03  0.132121  1.148318  2.440219  0.200771"
            ]
          },
          "execution_count": 2,
          "metadata": {},
          "output_type": "execute_result"
        }
      ],
      "source": [
        "# Load data\n",
        "# Added data since 1974-01-01\n",
        "\n",
        "data = pd.read_csv('stocks_data.csv', index_col = 0)\n",
        "data.head(2)"
      ]
    },
    {
      "cell_type": "code",
      "execution_count": 3,
      "metadata": {
        "colab": {
          "base_uri": "https://localhost:8080/",
          "height": 1000
        },
        "id": "WcJHHf2t-vVG",
        "outputId": "b40ce2a5-2619-4690-c90e-a3de0aea6857"
      },
      "outputs": [
        {
          "data": {
            "text/plain": [
              "0        1974-01-02\n",
              "1        1974-01-03\n",
              "2        1974-01-04\n",
              "3        1974-01-07\n",
              "4        1974-01-08\n",
              "            ...    \n",
              "12604    2023-12-22\n",
              "12605    2023-12-26\n",
              "12606    2023-12-27\n",
              "12607    2023-12-28\n",
              "12608    2023-12-29\n",
              "Name: Date, Length: 12609, dtype: object"
            ]
          },
          "execution_count": 3,
          "metadata": {},
          "output_type": "execute_result"
        }
      ],
      "source": [
        "data['Date']"
      ]
    },
    {
      "cell_type": "code",
      "execution_count": 4,
      "metadata": {
        "id": "lVfPpYtt-vVH"
      },
      "outputs": [],
      "source": [
        "# Assuming the data has a 'Date' column and 'Close' price column\n",
        "data['Date'] = pd.to_datetime(data['Date'])\n",
        "data.set_index('Date', inplace=True)"
      ]
    },
    {
      "cell_type": "code",
      "execution_count": 5,
      "metadata": {
        "colab": {
          "base_uri": "https://localhost:8080/",
          "height": 143
        },
        "id": "US6W8fqK-vVH",
        "outputId": "95e38127-eba7-4210-d4f9-24d7098e1b25"
      },
      "outputs": [
        {
          "data": {
            "text/html": [
              "<div>\n",
              "<style scoped>\n",
              "    .dataframe tbody tr th:only-of-type {\n",
              "        vertical-align: middle;\n",
              "    }\n",
              "\n",
              "    .dataframe tbody tr th {\n",
              "        vertical-align: top;\n",
              "    }\n",
              "\n",
              "    .dataframe thead th {\n",
              "        text-align: right;\n",
              "    }\n",
              "</style>\n",
              "<table border=\"1\" class=\"dataframe\">\n",
              "  <thead>\n",
              "    <tr style=\"text-align: right;\">\n",
              "      <th></th>\n",
              "      <th>BA</th>\n",
              "      <th>DE</th>\n",
              "      <th>MSI</th>\n",
              "      <th>SPGI</th>\n",
              "    </tr>\n",
              "    <tr>\n",
              "      <th>Date</th>\n",
              "      <th></th>\n",
              "      <th></th>\n",
              "      <th></th>\n",
              "      <th></th>\n",
              "    </tr>\n",
              "  </thead>\n",
              "  <tbody>\n",
              "    <tr>\n",
              "      <th>1974-01-02</th>\n",
              "      <td>0.130799</td>\n",
              "      <td>1.094406</td>\n",
              "      <td>2.354811</td>\n",
              "      <td>0.191056</td>\n",
              "    </tr>\n",
              "    <tr>\n",
              "      <th>1974-01-03</th>\n",
              "      <td>0.132121</td>\n",
              "      <td>1.148318</td>\n",
              "      <td>2.440219</td>\n",
              "      <td>0.200771</td>\n",
              "    </tr>\n",
              "  </tbody>\n",
              "</table>\n",
              "</div>"
            ],
            "text/plain": [
              "                  BA        DE       MSI      SPGI\n",
              "Date                                              \n",
              "1974-01-02  0.130799  1.094406  2.354811  0.191056\n",
              "1974-01-03  0.132121  1.148318  2.440219  0.200771"
            ]
          },
          "execution_count": 5,
          "metadata": {},
          "output_type": "execute_result"
        }
      ],
      "source": [
        "data.head(2)"
      ]
    },
    {
      "cell_type": "markdown",
      "metadata": {
        "id": "EPJx704a-vVH"
      },
      "source": [
        "Checking for one by one Stocks, starting with BA."
      ]
    },
    {
      "cell_type": "code",
      "execution_count": 6,
      "metadata": {
        "id": "LVTsOcm6-vVI"
      },
      "outputs": [],
      "source": [
        "# Feature scaling\n",
        "scaler = MinMaxScaler(feature_range=(0, 1))\n",
        "scaled_data = scaler.fit_transform(data['BA'].values.reshape(-1, 1))"
      ]
    },
    {
      "cell_type": "code",
      "execution_count": 7,
      "metadata": {
        "colab": {
          "base_uri": "https://localhost:8080/"
        },
        "id": "x4fh0Srg-vVI",
        "outputId": "afded218-c4c3-472a-e479-74bab7c36334"
      },
      "outputs": [
        {
          "data": {
            "text/plain": [
              "array([[1.84278157e-05],\n",
              "       [2.14995167e-05],\n",
              "       [1.84278157e-05],\n",
              "       ...,\n",
              "       [6.08998348e-01],\n",
              "       [6.04930255e-01],\n",
              "       [6.05650883e-01]])"
            ]
          },
          "execution_count": 7,
          "metadata": {},
          "output_type": "execute_result"
        }
      ],
      "source": [
        "scaled_data"
      ]
    },
    {
      "cell_type": "markdown",
      "metadata": {
        "id": "9vXZN11O-vVI"
      },
      "source": [
        "In time series forecasting, particularly with LSTM models, a \"window\" refers to a sequence of consecutive time points used as input to predict future values. A 60-day window means we are using the stock prices from the past 60 days to predict the stock price on the 61st day. This approach captures temporal dependencies and patterns in the data, which are crucial for making accurate predictions."
      ]
    },
    {
      "cell_type": "code",
      "execution_count": null,
      "metadata": {
        "id": "qCLAATTc-vVJ"
      },
      "outputs": [],
      "source": []
    },
    {
      "cell_type": "markdown",
      "metadata": {
        "id": "L2JEeBqi-vVJ"
      },
      "source": [
        "The choice of a 60-day window (or sequence length) in time series forecasting, particularly for stock price prediction using LSTM models, is based on several considerations:\n",
        "\n",
        "- Historical Trends and Patterns: Stock prices often exhibit trends, cycles, and patterns over time. A 60-day window allows the model to capture these medium-term patterns, such as monthly trends, which are significant for making predictions.\n",
        "\n",
        "- Balance Between Data Availability and Model Complexity: A longer sequence provides more historical context to the model, potentially improving its ability to learn patterns. However, too long a sequence can increase the model complexity and computational requirements, and might also lead to overfitting. A 60-day window strikes a balance by providing sufficient historical data without overwhelming the model.\n",
        "\n",
        "- Empirical Studies and Industry Practice: Many empirical studies and industry practices in financial modeling use a range of 30 to 90 days for sequence lengths. The 60-day window is a common and practical choice within this range.\n",
        "\n",
        "- Market Behavior: Stock markets often show significant changes within a 60-day period due to quarterly earnings reports, economic data releases, and other macroeconomic events. Capturing these dynamics can be beneficial for prediction accuracy."
      ]
    },
    {
      "cell_type": "code",
      "execution_count": 8,
      "metadata": {
        "id": "rTdAzvQK-vVJ"
      },
      "outputs": [],
      "source": [
        "\n",
        "# Create sequences\n",
        "def create_sequences(data, sequence_length):\n",
        "    sequences = []\n",
        "    labels = []\n",
        "    for i in range(len(data) - sequence_length):\n",
        "        sequences.append(data[i:i+sequence_length])\n",
        "        labels.append(data[i+sequence_length])\n",
        "    return np.array(sequences), np.array(labels)\n",
        "\n"
      ]
    },
    {
      "cell_type": "code",
      "execution_count": 9,
      "metadata": {
        "id": "QLuwcuqd-vVK"
      },
      "outputs": [],
      "source": [
        "sequence_length = 60  # 60 days look back\n",
        "X, y = create_sequences(scaled_data, sequence_length)\n",
        "\n",
        "# Split data into training and testing sets\n",
        "X_train, X_test, y_train, y_test = train_test_split(X, y, test_size=0.2, random_state=42)"
      ]
    },
    {
      "cell_type": "code",
      "execution_count": null,
      "metadata": {
        "colab": {
          "base_uri": "https://localhost:8080/"
        },
        "id": "kbxffY-s-vVL",
        "outputId": "cd0baa3f-f8b5-458f-89d5-2676ed2d4453"
      },
      "outputs": [
        {
          "data": {
            "text/plain": [
              "10039"
            ]
          },
          "execution_count": 28,
          "metadata": {},
          "output_type": "execute_result"
        }
      ],
      "source": [
        "len(y_train)"
      ]
    },
    {
      "cell_type": "code",
      "execution_count": null,
      "metadata": {
        "colab": {
          "base_uri": "https://localhost:8080/"
        },
        "id": "XdKS7OX6-vVL",
        "outputId": "ea47a9e3-ad67-4da8-a4ed-6effc11ee8e2"
      },
      "outputs": [
        {
          "data": {
            "text/plain": [
              "(12609, 4)"
            ]
          },
          "execution_count": 29,
          "metadata": {},
          "output_type": "execute_result"
        }
      ],
      "source": [
        "data.shape"
      ]
    },
    {
      "cell_type": "code",
      "execution_count": null,
      "metadata": {
        "colab": {
          "base_uri": "https://localhost:8080/"
        },
        "id": "F4_aQid4-vVL",
        "outputId": "04fe3408-1683-449c-db72-0261b0bd02cd"
      },
      "outputs": [
        {
          "data": {
            "text/plain": [
              "2510"
            ]
          },
          "execution_count": 30,
          "metadata": {},
          "output_type": "execute_result"
        }
      ],
      "source": [
        "len(y_test)"
      ]
    },
    {
      "cell_type": "code",
      "execution_count": null,
      "metadata": {
        "colab": {
          "base_uri": "https://localhost:8080/"
        },
        "id": "4U8_WqQv-vVM",
        "outputId": "9050b1fa-9966-4b64-8122-c97e5f6a3931"
      },
      "outputs": [
        {
          "data": {
            "text/plain": [
              "60"
            ]
          },
          "execution_count": 31,
          "metadata": {},
          "output_type": "execute_result"
        }
      ],
      "source": [
        "len(X_train[0])"
      ]
    },
    {
      "cell_type": "code",
      "execution_count": null,
      "metadata": {
        "colab": {
          "base_uri": "https://localhost:8080/"
        },
        "id": "HYrgQKyW-vVM",
        "outputId": "ff3e96eb-1cd9-4df7-ca00-12d8018b8f3a"
      },
      "outputs": [
        {
          "data": {
            "text/plain": [
              "10039"
            ]
          },
          "execution_count": 32,
          "metadata": {},
          "output_type": "execute_result"
        }
      ],
      "source": [
        "len(X_train)"
      ]
    },
    {
      "cell_type": "markdown",
      "metadata": {
        "id": "Hc-_pupT-vVM"
      },
      "source": [
        "Build LSTM Model"
      ]
    },
    {
      "cell_type": "code",
      "execution_count": 11,
      "metadata": {
        "id": "FWlqTrIm-vVM"
      },
      "outputs": [],
      "source": [
        "def build_model(units, dropout_rate, learning_rate):\n",
        "    model = Sequential()\n",
        "    model.add(LSTM(units=units, return_sequences=True, input_shape=(X_train.shape[1], 1)))\n",
        "    model.add(Dropout(dropout_rate))\n",
        "    model.add(LSTM(units=units))\n",
        "    model.add(Dropout(dropout_rate))\n",
        "    model.add(Dense(1))\n",
        "\n",
        "    optimizer = Adam(learning_rate=learning_rate)\n",
        "    model.compile(optimizer=optimizer, loss='mean_squared_error')\n",
        "    return model"
      ]
    },
    {
      "cell_type": "markdown",
      "metadata": {
        "id": "Y0PfVvwq-vVM"
      },
      "source": [
        "To find the best combination of hyperparameters, we can use Keras Tuner or a custom grid search.\n",
        "\n"
      ]
    },
    {
      "cell_type": "markdown",
      "metadata": {
        "id": "FhoEdy7P-vVN"
      },
      "source": [
        "Choosing a minimum value of 50 instead of 10 for hp_units likely reflects a balance between computational efficiency and model complexity, as well as practical considerations based on the specific problem. Here's why a minimum value of 50 might be preferred over 10:\n",
        "\n",
        "- Sufficient Model Capacity:\n",
        "\n",
        "A minimum value of 50 units ensures that the model has enough capacity to capture meaningful patterns in the data. In many practical scenarios, 10 units might be insufficient, leading to underfitting where the model fails to learn the underlying data distribution effectively.\n",
        "Avoiding Underfitting:\n",
        "\n",
        "With only 10 units, the model might be too simplistic, especially for complex datasets. This could result in poor performance because the model cannot adequately represent the complexity of the data.\n",
        "Empirical Evidence:\n",
        "\n",
        "Often, hyperparameter ranges are informed by empirical evidence and prior experiments. If past experiments or domain knowledge suggest that configurations with fewer than 50 units generally perform poorly, it makes sense to set the lower bound at 50.\n",
        "\n",
        "- Computational Efficiency:\n",
        "\n",
        "Exploring configurations with very low units (like 10, 20, 30) may not be an efficient use of computational resources if these configurations are likely to perform poorly. Starting at 50 helps focus the search on more promising areas of the hyperparameter space.\n",
        "Practical Experience:\n",
        "\n",
        "Practical experience with similar models or datasets might indicate that starting with 50 units is a reasonable baseline that balances model complexity and training time. It avoids the pitfalls of too small networks while not being overly complex.\n",
        "\n",
        "- Step Size Consideration:\n",
        "\n",
        "Given a step size of 50, starting from 10 would result in a sequence of (10, 60, 110, 160, 210). This is less intuitive and potentially less useful than (50, 100, 150, 200), where each step represents a significant and meaningful increase in model capacity.\n",
        "Search Space Efficiency:\n",
        "\n",
        "Hyperparameter tuning often involves a trade-off between the breadth of the search space and the granularity of the search. By starting at 50 and using a step of 50, you ensure a more focused and manageable search space, improving the likelihood of finding optimal configurations without excessive computational cost.\n",
        "By setting the minimum value to 50, the tuning process starts with a model complexity that is more likely to be effective, avoiding the inefficiency and potential performance issues associated with very small networks."
      ]
    },
    {
      "cell_type": "code",
      "execution_count": null,
      "metadata": {
        "colab": {
          "background_save": true,
          "base_uri": "https://localhost:8080/"
        },
        "id": "-y0YQsmD-vVN",
        "outputId": "72e42a8a-05fc-439d-d2ba-6eecd0f0c768"
      },
      "outputs": [
        {
          "name": "stdout",
          "output_type": "stream",
          "text": [
            "Trial 5 Complete [00h 30m 06s]\n",
            "val_loss: 9.058408371250455e-05\n",
            "\n",
            "Best val_loss So Far: 8.763661026023328e-05\n",
            "Total elapsed time: 03h 03m 58s\n",
            "\n",
            "The hyperparameter search is complete. The optimal number of units in the LSTM layer is 150.\n",
            "The optimal dropout rate is 0.30000000000000004.\n",
            "The optimal learning rate is 0.001.\n",
            "\n"
          ]
        }
      ],
      "source": [
        "from keras_tuner import RandomSearch\n",
        "\n",
        "def model_builder(hp):\n",
        "    model = Sequential()\n",
        "    hp_units = hp.Int('units', min_value=50, max_value=200, step=50)\n",
        "    hp_dropout = hp.Float('dropout_rate', min_value=0.1, max_value=0.5, step=0.1)\n",
        "    hp_learning_rate = hp.Choice('learning_rate', values=[1e-2, 1e-3, 1e-4])\n",
        "\n",
        "    model.add(LSTM(units=hp_units, return_sequences=True, input_shape=(X_train.shape[1], 1)))\n",
        "    model.add(Dropout(hp_dropout))\n",
        "    model.add(LSTM(units=hp_units))\n",
        "    model.add(Dropout(hp_dropout))\n",
        "    model.add(Dense(1))\n",
        "\n",
        "    model.compile(optimizer=Adam(learning_rate=hp_learning_rate), loss='mean_squared_error')\n",
        "    return model\n",
        "\n",
        "tuner = RandomSearch(\n",
        "    model_builder,\n",
        "    objective='val_loss',\n",
        "    max_trials=5,\n",
        "    executions_per_trial=3,\n",
        "    directory='stock_price_tuning',\n",
        "    project_name='stock_price_prediction'\n",
        ")\n",
        "\n",
        "tuner.search(X_train, y_train, epochs=50, validation_split=0.2, callbacks=[EarlyStopping(monitor='val_loss', patience=3)])\n",
        "best_hps = tuner.get_best_hyperparameters(num_trials=1)[0]\n",
        "\n",
        "print(f\"\"\"\n",
        "The hyperparameter search is complete. The optimal number of units in the LSTM layer is {best_hps.get('units')}.\n",
        "The optimal dropout rate is {best_hps.get('dropout_rate')}.\n",
        "The optimal learning rate is {best_hps.get('learning_rate')}.\n",
        "\"\"\")\n"
      ]
    },
    {
      "cell_type": "markdown",
      "metadata": {
        "id": "Q_CR4aHy-vVN"
      },
      "source": [
        "Bayesian Optimization is a probabilistic model-based optimization method that is particularly effective for tuning hyperparameters."
      ]
    },
    {
      "cell_type": "code",
      "execution_count": null,
      "metadata": {
        "colab": {
          "background_save": true
        },
        "id": "z9BYgxDA-vVO",
        "outputId": "ab6abb3e-5e38-4bd1-d5a5-79d77829856b"
      },
      "outputs": [
        {
          "name": "stdout",
          "output_type": "stream",
          "text": [
            "Trial 9 Complete [00h 07m 56s]\n",
            "val_loss: 0.00012082741159247234\n",
            "\n",
            "Best val_loss So Far: 6.592156933038495e-05\n",
            "Total elapsed time: 02h 56m 26s\n"
          ]
        },
        {
          "name": "stderr",
          "output_type": "stream",
          "text": [
            "/usr/local/lib/python3.10/dist-packages/sklearn/gaussian_process/kernels.py:419: ConvergenceWarning: The optimal value found for dimension 0 of parameter length_scale is close to the specified lower bound 1e-05. Decreasing the bound and calling fit again may find a better value.\n",
            "  warnings.warn(\n"
          ]
        },
        {
          "name": "stdout",
          "output_type": "stream",
          "text": [
            "\n",
            "Search: Running Trial #10\n",
            "\n",
            "Value             |Best Value So Far |Hyperparameter\n",
            "50                |50                |units\n",
            "0.3               |0.1               |dropout_rate\n",
            "0.001             |0.01              |learning_rate\n",
            "\n",
            "Epoch 1/50\n",
            "251/251 [==============================] - 20s 61ms/step - loss: 0.0023 - val_loss: 7.2922e-04\n",
            "Epoch 2/50\n",
            "251/251 [==============================] - 14s 55ms/step - loss: 9.2235e-04 - val_loss: 1.3429e-04\n",
            "Epoch 3/50\n",
            "251/251 [==============================] - 14s 55ms/step - loss: 7.6757e-04 - val_loss: 1.2731e-04\n",
            "Epoch 4/50\n",
            "251/251 [==============================] - 14s 55ms/step - loss: 7.5244e-04 - val_loss: 7.6798e-04\n",
            "Epoch 5/50\n",
            "251/251 [==============================] - 14s 55ms/step - loss: 6.5535e-04 - val_loss: 1.6615e-04\n",
            "Epoch 6/50\n",
            "251/251 [==============================] - 14s 55ms/step - loss: 6.6749e-04 - val_loss: 1.7624e-04\n",
            "Epoch 1/50\n",
            "251/251 [==============================] - 20s 67ms/step - loss: 0.0020 - val_loss: 2.2693e-04\n",
            "Epoch 2/50\n",
            "251/251 [==============================] - 14s 56ms/step - loss: 9.4261e-04 - val_loss: 1.6032e-04\n",
            "Epoch 3/50\n",
            "251/251 [==============================] - 14s 56ms/step - loss: 8.1073e-04 - val_loss: 3.8760e-04\n",
            "Epoch 4/50\n",
            "251/251 [==============================] - 14s 57ms/step - loss: 7.4676e-04 - val_loss: 3.1204e-04\n",
            "Epoch 5/50\n",
            "251/251 [==============================] - 14s 57ms/step - loss: 7.0024e-04 - val_loss: 1.3370e-04\n",
            "Epoch 6/50\n",
            "251/251 [==============================] - 14s 56ms/step - loss: 6.4339e-04 - val_loss: 2.8128e-04\n",
            "Epoch 7/50\n",
            "251/251 [==============================] - 14s 57ms/step - loss: 6.6606e-04 - val_loss: 1.2242e-04\n",
            "Epoch 8/50\n",
            "251/251 [==============================] - 14s 57ms/step - loss: 6.0905e-04 - val_loss: 1.0414e-04\n",
            "Epoch 9/50\n",
            "100/251 [==========>...................] - ETA: 9s - loss: 5.8591e-04"
          ]
        }
      ],
      "source": [
        "from keras_tuner import BayesianOptimization\n",
        "\n",
        "def model_builder(hp):\n",
        "    model = Sequential()\n",
        "    hp_units = hp.Int('units', min_value=50, max_value=200, step=50)\n",
        "    hp_dropout = hp.Float('dropout_rate', min_value=0.1, max_value=0.5, step=0.1)\n",
        "    hp_learning_rate = hp.Choice('learning_rate', values=[1e-2, 1e-3, 1e-4])\n",
        "\n",
        "    model.add(LSTM(units=hp_units, return_sequences=True, input_shape=(X_train.shape[1], 1)))\n",
        "    model.add(Dropout(hp_dropout))\n",
        "    model.add(LSTM(units=hp_units))\n",
        "    model.add(Dropout(hp_dropout))\n",
        "    model.add(Dense(1))\n",
        "\n",
        "    model.compile(optimizer=Adam(learning_rate=hp_learning_rate), loss='mean_squared_error')\n",
        "    return model\n",
        "\n",
        "tuner = BayesianOptimization(\n",
        "    model_builder,\n",
        "    objective='val_loss',\n",
        "    max_trials=10,\n",
        "    executions_per_trial=3,\n",
        "    directory='stock_price_tuning_bayesian',\n",
        "    project_name='stock_price_prediction'\n",
        ")\n",
        "\n",
        "tuner.search(X_train, y_train, epochs=50, validation_split=0.2, callbacks=[EarlyStopping(monitor='val_loss', patience=3)])\n",
        "best_hps = tuner.get_best_hyperparameters(num_trials=1)[0]\n",
        "\n",
        "print(f\"\"\"\n",
        "The hyperparameter search is complete. The optimal number of units in the LSTM layer is {best_hps.get('units')}.\n",
        "The optimal dropout rate is {best_hps.get('dropout_rate')}.\n",
        "The optimal learning rate is {best_hps.get('learning_rate')}.\n",
        "\"\"\")\n"
      ]
    },
    {
      "cell_type": "markdown",
      "metadata": {
        "id": "wIRejsSp-vVO"
      },
      "source": [
        "Hyperband is an optimization algorithm that uses adaptive resource allocation and early-stopping to find the best hyperparameters quickly."
      ]
    },
    {
      "cell_type": "code",
      "execution_count": 19,
      "metadata": {
        "id": "Fn-wAroC-vVO"
      },
      "outputs": [
        {
          "name": "stdout",
          "output_type": "stream",
          "text": [
            "Trial 1 Complete [00h 01m 39s]\n",
            "val_loss: 0.00017157238956618434\n",
            "\n",
            "Best val_loss So Far: 0.00017157238956618434\n",
            "Total elapsed time: 00h 01m 39s\n",
            "\n",
            "The hyperparameter search is complete. The optimal number of units in the LSTM layer is 150.\n",
            "The optimal dropout rate is 0.2.\n",
            "The optimal learning rate is 0.001.\n",
            "\n"
          ]
        }
      ],
      "source": [
        "from keras_tuner import Hyperband\n",
        "\n",
        "def model_builder(hp):\n",
        "    model = Sequential()\n",
        "    hp_units = hp.Int('units', min_value=150, max_value=150, step=50)\n",
        "    hp_dropout = hp.Float('dropout_rate', min_value=0.2, max_value=0.2, step=0.1)\n",
        "    hp_learning_rate = hp.Choice('learning_rate', values=[0.001])\n",
        "\n",
        "    model.add(LSTM(units=hp_units, return_sequences=True, input_shape=(X_train.shape[1], 1)))\n",
        "    model.add(Dropout(hp_dropout))\n",
        "    model.add(LSTM(units=hp_units))\n",
        "    model.add(Dropout(hp_dropout))\n",
        "    model.add(Dense(1))\n",
        "\n",
        "    model.compile(optimizer=Adam(learning_rate=hp_learning_rate), loss='mean_squared_error')\n",
        "    return model\n",
        "\n",
        "tuner = Hyperband(\n",
        "    model_builder,\n",
        "    objective='val_loss',\n",
        "    max_epochs=50,\n",
        "    executions_per_trial=3,\n",
        "    directory='stock_price_tuning_hyperband',\n",
        "    project_name='stock_price_prediction'\n",
        ")\n",
        "\n",
        "tuner.search(X_train, y_train, epochs=50, validation_split=0.2, callbacks=[EarlyStopping(monitor='val_loss', patience=3)])\n",
        "best_hps = tuner.get_best_hyperparameters(num_trials=1)[0]\n",
        "\n",
        "print(f\"\"\"\n",
        "The hyperparameter search is complete. The optimal number of units in the LSTM layer is {best_hps.get('units')}.\n",
        "The optimal dropout rate is {best_hps.get('dropout_rate')}.\n",
        "The optimal learning rate is {best_hps.get('learning_rate')}.\n",
        "\"\"\")\n"
      ]
    },
    {
      "cell_type": "markdown",
      "metadata": {
        "id": "SsTkDGHs-vVP"
      },
      "source": [
        "Grid Search is an exhaustive search method that evaluates all possible combinations of hyperparameters."
      ]
    },
    {
      "cell_type": "code",
      "execution_count": 20,
      "metadata": {
        "id": "O8V_srC_-vVP"
      },
      "outputs": [
        {
          "name": "stderr",
          "output_type": "stream",
          "text": [
            "c:\\Users\\SHEKHAR\\.conda\\envs\\aws\\lib\\site-packages\\keras\\src\\layers\\rnn\\rnn.py:204: UserWarning: Do not pass an `input_shape`/`input_dim` argument to a layer. When using Sequential models, prefer using an `Input(shape)` object as the first layer in the model instead.\n",
            "  super().__init__(**kwargs)\n"
          ]
        },
        {
          "name": "stdout",
          "output_type": "stream",
          "text": [
            "\n",
            "Search: Running Trial #1\n",
            "\n",
            "Value             |Best Value So Far |Hyperparameter\n",
            "50                |50                |units\n",
            "0.1               |0.1               |dropout_rate\n",
            "0.01              |0.01              |learning_rate\n",
            "\n",
            "Epoch 1/50\n",
            "\u001b[1m252/252\u001b[0m \u001b[32m━━━━━━━━━━━━━━━━━━━━\u001b[0m\u001b[37m\u001b[0m \u001b[1m9s\u001b[0m 25ms/step - loss: 0.0048 - val_loss: 0.0011\n",
            "Epoch 2/50\n",
            "\u001b[1m252/252\u001b[0m \u001b[32m━━━━━━━━━━━━━━━━━━━━\u001b[0m\u001b[37m\u001b[0m \u001b[1m6s\u001b[0m 23ms/step - loss: 7.0734e-04 - val_loss: 2.9539e-04\n",
            "Epoch 3/50\n",
            "\u001b[1m252/252\u001b[0m \u001b[32m━━━━━━━━━━━━━━━━━━━━\u001b[0m\u001b[37m\u001b[0m \u001b[1m6s\u001b[0m 23ms/step - loss: 3.7868e-04 - val_loss: 6.9960e-05\n",
            "Epoch 4/50\n",
            "\u001b[1m252/252\u001b[0m \u001b[32m━━━━━━━━━━━━━━━━━━━━\u001b[0m\u001b[37m\u001b[0m \u001b[1m6s\u001b[0m 24ms/step - loss: 3.8115e-04 - val_loss: 2.0970e-04\n",
            "Epoch 5/50\n",
            "\u001b[1m252/252\u001b[0m \u001b[32m━━━━━━━━━━━━━━━━━━━━\u001b[0m\u001b[37m\u001b[0m \u001b[1m6s\u001b[0m 25ms/step - loss: 4.3626e-04 - val_loss: 9.6483e-05\n",
            "Epoch 6/50\n",
            "\u001b[1m252/252\u001b[0m \u001b[32m━━━━━━━━━━━━━━━━━━━━\u001b[0m\u001b[37m\u001b[0m \u001b[1m6s\u001b[0m 25ms/step - loss: 3.1142e-04 - val_loss: 1.5609e-04\n",
            "Epoch 1/50\n",
            "\u001b[1m252/252\u001b[0m \u001b[32m━━━━━━━━━━━━━━━━━━━━\u001b[0m\u001b[37m\u001b[0m \u001b[1m10s\u001b[0m 27ms/step - loss: 0.0038 - val_loss: 1.8848e-04\n",
            "Epoch 2/50\n",
            "\u001b[1m252/252\u001b[0m \u001b[32m━━━━━━━━━━━━━━━━━━━━\u001b[0m\u001b[37m\u001b[0m \u001b[1m7s\u001b[0m 26ms/step - loss: 5.4457e-04 - val_loss: 1.0302e-04\n",
            "Epoch 3/50\n",
            "\u001b[1m252/252\u001b[0m \u001b[32m━━━━━━━━━━━━━━━━━━━━\u001b[0m\u001b[37m\u001b[0m \u001b[1m6s\u001b[0m 25ms/step - loss: 4.2245e-04 - val_loss: 5.3779e-04\n",
            "Epoch 4/50\n",
            "\u001b[1m252/252\u001b[0m \u001b[32m━━━━━━━━━━━━━━━━━━━━\u001b[0m\u001b[37m\u001b[0m \u001b[1m6s\u001b[0m 25ms/step - loss: 2.8486e-04 - val_loss: 6.3769e-04\n",
            "Epoch 5/50\n",
            "\u001b[1m252/252\u001b[0m \u001b[32m━━━━━━━━━━━━━━━━━━━━\u001b[0m\u001b[37m\u001b[0m \u001b[1m7s\u001b[0m 27ms/step - loss: 4.6752e-04 - val_loss: 6.2069e-05\n",
            "Epoch 6/50\n",
            "\u001b[1m252/252\u001b[0m \u001b[32m━━━━━━━━━━━━━━━━━━━━\u001b[0m\u001b[37m\u001b[0m \u001b[1m7s\u001b[0m 26ms/step - loss: 3.4991e-04 - val_loss: 1.3476e-04\n",
            "Epoch 7/50\n",
            "\u001b[1m154/252\u001b[0m \u001b[32m━━━━━━━━━━━━\u001b[0m\u001b[37m━━━━━━━━\u001b[0m \u001b[1m2s\u001b[0m 26ms/step - loss: 4.4262e-04"
          ]
        }
      ],
      "source": [
        "from keras_tuner import GridSearch\n",
        "\n",
        "def model_builder(hp):\n",
        "    model = Sequential()\n",
        "    hp_units = hp.Int('units', min_value=50, max_value=50, step=50)\n",
        "    hp_dropout = hp.Float('dropout_rate', min_value=0.1, max_value=0.1, step=0.1)\n",
        "    hp_learning_rate = hp.Choice('learning_rate', values=[0.01])\n",
        "\n",
        "    model.add(LSTM(units=hp_units, return_sequences=True, input_shape=(X_train.shape[1], 1)))\n",
        "    model.add(Dropout(hp_dropout))\n",
        "    model.add(LSTM(units=hp_units))\n",
        "    model.add(Dropout(hp_dropout))\n",
        "    model.add(Dense(1))\n",
        "\n",
        "    model.compile(optimizer=Adam(learning_rate=hp_learning_rate), loss='mean_squared_error')\n",
        "    return model\n",
        "\n",
        "tuner = GridSearch(\n",
        "    model_builder,\n",
        "    objective='val_loss',\n",
        "    max_trials=5,\n",
        "    executions_per_trial=3,\n",
        "    directory='stock_price_tuning_grid',\n",
        "    project_name='stock_price_prediction'\n",
        ")\n",
        "\n",
        "tuner.search(X_train, y_train, epochs=50, validation_split=0.2, callbacks=[EarlyStopping(monitor='val_loss', patience=3)])\n",
        "best_hps = tuner.get_best_hyperparameters(num_trials=1)[0]\n",
        "\n",
        "print(f\"\"\"\n",
        "The hyperparameter search is complete. The optimal number of units in the LSTM layer is {best_hps.get('units')}.\n",
        "The optimal dropout rate is {best_hps.get('dropout_rate')}.\n",
        "The optimal learning rate is {best_hps.get('learning_rate')}.\n",
        "\"\"\")\n"
      ]
    },
    {
      "cell_type": "markdown",
      "metadata": {
        "id": "e2TdAivc-vVP"
      },
      "source": [
        "Build the model with the optimal hyperparameters"
      ]
    },
    {
      "cell_type": "code",
      "execution_count": 16,
      "metadata": {
        "id": "dQGldc0F-vVQ"
      },
      "outputs": [
        {
          "ename": "NameError",
          "evalue": "name 'best_hps' is not defined",
          "output_type": "error",
          "traceback": [
            "\u001b[1;31m---------------------------------------------------------------------------\u001b[0m",
            "\u001b[1;31mNameError\u001b[0m                                 Traceback (most recent call last)",
            "Cell \u001b[1;32mIn[16], line 2\u001b[0m\n\u001b[0;32m      1\u001b[0m \u001b[38;5;66;03m# Build the model with the optimal hyperparameters\u001b[39;00m\n\u001b[1;32m----> 2\u001b[0m model \u001b[38;5;241m=\u001b[39m build_model(\u001b[43mbest_hps\u001b[49m\u001b[38;5;241m.\u001b[39mget(\u001b[38;5;124m'\u001b[39m\u001b[38;5;124munits\u001b[39m\u001b[38;5;124m'\u001b[39m), best_hps\u001b[38;5;241m.\u001b[39mget(\u001b[38;5;124m'\u001b[39m\u001b[38;5;124mdropout_rate\u001b[39m\u001b[38;5;124m'\u001b[39m), best_hps\u001b[38;5;241m.\u001b[39mget(\u001b[38;5;124m'\u001b[39m\u001b[38;5;124mlearning_rate\u001b[39m\u001b[38;5;124m'\u001b[39m))\n\u001b[0;32m      4\u001b[0m \u001b[38;5;66;03m# Train the model\u001b[39;00m\n\u001b[0;32m      5\u001b[0m history \u001b[38;5;241m=\u001b[39m model\u001b[38;5;241m.\u001b[39mfit(X_train, y_train, epochs\u001b[38;5;241m=\u001b[39m\u001b[38;5;241m50\u001b[39m, batch_size\u001b[38;5;241m=\u001b[39m\u001b[38;5;241m32\u001b[39m, validation_split\u001b[38;5;241m=\u001b[39m\u001b[38;5;241m0.2\u001b[39m, callbacks\u001b[38;5;241m=\u001b[39m[EarlyStopping(monitor\u001b[38;5;241m=\u001b[39m\u001b[38;5;124m'\u001b[39m\u001b[38;5;124mval_loss\u001b[39m\u001b[38;5;124m'\u001b[39m, patience\u001b[38;5;241m=\u001b[39m\u001b[38;5;241m3\u001b[39m)])\n",
            "\u001b[1;31mNameError\u001b[0m: name 'best_hps' is not defined"
          ]
        }
      ],
      "source": [
        "# Build the model with the optimal hyperparameters\n",
        "model = build_model(best_hps.get('units'), best_hps.get('dropout_rate'), best_hps.get('learning_rate'))\n",
        "\n",
        "# Train the model\n",
        "history = model.fit(X_train, y_train, epochs=50, batch_size=32, validation_split=0.2, callbacks=[EarlyStopping(monitor='val_loss', patience=3)])\n",
        "\n",
        "# Evaluate the model\n",
        "loss = model.evaluate(X_test, y_test)\n",
        "print(f'Test Loss: {loss}')\n",
        "\n",
        "# Plot training history\n",
        "plt.plot(history.history['loss'], label='train')\n",
        "plt.plot(history.history['val_loss'], label='validation')\n",
        "plt.legend()\n",
        "plt.show()\n"
      ]
    },
    {
      "cell_type": "markdown",
      "metadata": {
        "id": "MEqm-oVc-vVQ"
      },
      "source": [
        "Exploring Different Sequence Lengths\n",
        "\n",
        "\n",
        "While 60 days is a reasonable starting point, it's essential to experiment with different sequence lengths to determine the optimal window for your specific dataset and model. Here's how you can do that:"
      ]
    },
    {
      "cell_type": "code",
      "execution_count": 14,
      "metadata": {
        "id": "JygExqA4-vVQ"
      },
      "outputs": [],
      "source": [
        "def create_sequences(data, sequence_length):\n",
        "    sequences = []\n",
        "    labels = []\n",
        "    for i in range(len(data) - sequence_length):\n",
        "        sequences.append(data[i:i+sequence_length])\n",
        "        labels.append(data[i+sequence_length])\n",
        "    return np.array(sequences), np.array(labels)\n"
      ]
    },
    {
      "cell_type": "markdown",
      "metadata": {
        "id": "12rXc8Jq-vVQ"
      },
      "source": [
        "Experiment with Different Sequence Lengths\n",
        "You can loop through different sequence lengths to find the best performing one."
      ]
    },
    {
      "cell_type": "code",
      "execution_count": 15,
      "metadata": {
        "id": "S8g71oSO-vVQ"
      },
      "outputs": [
        {
          "ename": "NameError",
          "evalue": "name 'best_hps' is not defined",
          "output_type": "error",
          "traceback": [
            "\u001b[1;31m---------------------------------------------------------------------------\u001b[0m",
            "\u001b[1;31mNameError\u001b[0m                                 Traceback (most recent call last)",
            "Cell \u001b[1;32mIn[15], line 8\u001b[0m\n\u001b[0;32m      5\u001b[0m X, y \u001b[38;5;241m=\u001b[39m create_sequences(scaled_data, seq_len)\n\u001b[0;32m      6\u001b[0m X_train, X_test, y_train, y_test \u001b[38;5;241m=\u001b[39m train_test_split(X, y, test_size\u001b[38;5;241m=\u001b[39m\u001b[38;5;241m0.2\u001b[39m, random_state\u001b[38;5;241m=\u001b[39m\u001b[38;5;241m42\u001b[39m)\n\u001b[1;32m----> 8\u001b[0m model \u001b[38;5;241m=\u001b[39m build_model(\u001b[43mbest_hps\u001b[49m\u001b[38;5;241m.\u001b[39mget(\u001b[38;5;124m'\u001b[39m\u001b[38;5;124munits\u001b[39m\u001b[38;5;124m'\u001b[39m), best_hps\u001b[38;5;241m.\u001b[39mget(\u001b[38;5;124m'\u001b[39m\u001b[38;5;124mdropout_rate\u001b[39m\u001b[38;5;124m'\u001b[39m), best_hps\u001b[38;5;241m.\u001b[39mget(\u001b[38;5;124m'\u001b[39m\u001b[38;5;124mlearning_rate\u001b[39m\u001b[38;5;124m'\u001b[39m))\n\u001b[0;32m      9\u001b[0m history \u001b[38;5;241m=\u001b[39m model\u001b[38;5;241m.\u001b[39mfit(X_train, y_train, epochs\u001b[38;5;241m=\u001b[39m\u001b[38;5;241m50\u001b[39m, batch_size\u001b[38;5;241m=\u001b[39m\u001b[38;5;241m32\u001b[39m, validation_split\u001b[38;5;241m=\u001b[39m\u001b[38;5;241m0.2\u001b[39m, callbacks\u001b[38;5;241m=\u001b[39m[EarlyStopping(monitor\u001b[38;5;241m=\u001b[39m\u001b[38;5;124m'\u001b[39m\u001b[38;5;124mval_loss\u001b[39m\u001b[38;5;124m'\u001b[39m, patience\u001b[38;5;241m=\u001b[39m\u001b[38;5;241m3\u001b[39m)])\n\u001b[0;32m     11\u001b[0m loss \u001b[38;5;241m=\u001b[39m model\u001b[38;5;241m.\u001b[39mevaluate(X_test, y_test)\n",
            "\u001b[1;31mNameError\u001b[0m: name 'best_hps' is not defined"
          ]
        }
      ],
      "source": [
        "sequence_lengths = [30, 60, 90, 180, 360]\n",
        "results = {}\n",
        "\n",
        "for seq_len in sequence_lengths:\n",
        "    X, y = create_sequences(scaled_data, seq_len)\n",
        "    X_train, X_test, y_train, y_test = train_test_split(X, y, test_size=0.2, random_state=42)\n",
        "\n",
        "    model = build_model(best_hps.get('units'), best_hps.get('dropout_rate'), best_hps.get('learning_rate'))\n",
        "    history = model.fit(X_train, y_train, epochs=50, batch_size=32, validation_split=0.2, callbacks=[EarlyStopping(monitor='val_loss', patience=3)])\n",
        "\n",
        "    loss = model.evaluate(X_test, y_test)\n",
        "    results[seq_len] = loss\n",
        "    print(f'Sequence Length: {seq_len}, Test Loss: {loss}')\n",
        "\n",
        "# Find the best sequence length\n",
        "best_seq_len = min(results, key=results.get)\n",
        "print(f'Best Sequence Length: {best_seq_len}')\n"
      ]
    },
    {
      "cell_type": "markdown",
      "metadata": {
        "id": "Q3Vu6oDf-vVl"
      },
      "source": [
        "Sequence Length: 90, Test Loss: 0.00033690148848108947\n",
        "Best Sequence Length: 90"
      ]
    },
    {
      "cell_type": "code",
      "execution_count": null,
      "metadata": {
        "id": "m4nzwfMQ-vVm"
      },
      "outputs": [],
      "source": []
    }
  ],
  "metadata": {
    "colab": {
      "provenance": []
    },
    "kernelspec": {
      "display_name": "aws",
      "language": "python",
      "name": "python3"
    },
    "language_info": {
      "codemirror_mode": {
        "name": "ipython",
        "version": 3
      },
      "file_extension": ".py",
      "mimetype": "text/x-python",
      "name": "python",
      "nbconvert_exporter": "python",
      "pygments_lexer": "ipython3",
      "version": "3.10.13"
    }
  },
  "nbformat": 4,
  "nbformat_minor": 0
}
