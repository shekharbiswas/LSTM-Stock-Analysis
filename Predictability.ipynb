{
  "nbformat": 4,
  "nbformat_minor": 0,
  "metadata": {
    "colab": {
      "provenance": []
    },
    "kernelspec": {
      "name": "python3",
      "display_name": "Python 3"
    },
    "language_info": {
      "name": "python"
    }
  },
  "cells": [
    {
      "cell_type": "markdown",
      "source": [
        "\n",
        "\n",
        "## **1. Autocorrelation of Returns**\n",
        "\n",
        "Purpose: Measures how correlated a stock's returns are with its own past returns.\n",
        "\n",
        "### Interpretation:\n",
        "- Positive autocorrelation: Indicates that past returns can predict future returns.\n",
        "- Low or negative autocorrelation: Suggests that past returns do not predict future returns well."
      ],
      "metadata": {
        "id": "9Sdy2u6Z0HRm"
      }
    },
    {
      "cell_type": "code",
      "source": [
        "!pip install yfinance numpy pandas statsmodels hurst\n"
      ],
      "metadata": {
        "colab": {
          "base_uri": "https://localhost:8080/"
        },
        "id": "djkt0Yl90JpW",
        "outputId": "40c981c3-7855-40ca-d6c4-dd2d3796a6bb"
      },
      "execution_count": null,
      "outputs": [
        {
          "output_type": "stream",
          "name": "stdout",
          "text": [
            "Requirement already satisfied: yfinance in /usr/local/lib/python3.10/dist-packages (0.2.43)\n",
            "Requirement already satisfied: numpy in /usr/local/lib/python3.10/dist-packages (1.26.4)\n",
            "Requirement already satisfied: pandas in /usr/local/lib/python3.10/dist-packages (2.1.4)\n",
            "Requirement already satisfied: statsmodels in /usr/local/lib/python3.10/dist-packages (0.14.2)\n",
            "Collecting hurst\n",
            "  Downloading hurst-0.0.5-py3-none-any.whl.metadata (3.6 kB)\n",
            "Requirement already satisfied: requests>=2.31 in /usr/local/lib/python3.10/dist-packages (from yfinance) (2.32.3)\n",
            "Requirement already satisfied: multitasking>=0.0.7 in /usr/local/lib/python3.10/dist-packages (from yfinance) (0.0.11)\n",
            "Requirement already satisfied: lxml>=4.9.1 in /usr/local/lib/python3.10/dist-packages (from yfinance) (4.9.4)\n",
            "Requirement already satisfied: platformdirs>=2.0.0 in /usr/local/lib/python3.10/dist-packages (from yfinance) (4.2.2)\n",
            "Requirement already satisfied: pytz>=2022.5 in /usr/local/lib/python3.10/dist-packages (from yfinance) (2024.1)\n",
            "Requirement already satisfied: frozendict>=2.3.4 in /usr/local/lib/python3.10/dist-packages (from yfinance) (2.4.4)\n",
            "Requirement already satisfied: peewee>=3.16.2 in /usr/local/lib/python3.10/dist-packages (from yfinance) (3.17.6)\n",
            "Requirement already satisfied: beautifulsoup4>=4.11.1 in /usr/local/lib/python3.10/dist-packages (from yfinance) (4.12.3)\n",
            "Requirement already satisfied: html5lib>=1.1 in /usr/local/lib/python3.10/dist-packages (from yfinance) (1.1)\n",
            "Requirement already satisfied: python-dateutil>=2.8.2 in /usr/local/lib/python3.10/dist-packages (from pandas) (2.8.2)\n",
            "Requirement already satisfied: tzdata>=2022.1 in /usr/local/lib/python3.10/dist-packages (from pandas) (2024.1)\n",
            "Requirement already satisfied: scipy!=1.9.2,>=1.8 in /usr/local/lib/python3.10/dist-packages (from statsmodels) (1.13.1)\n",
            "Requirement already satisfied: patsy>=0.5.6 in /usr/local/lib/python3.10/dist-packages (from statsmodels) (0.5.6)\n",
            "Requirement already satisfied: packaging>=21.3 in /usr/local/lib/python3.10/dist-packages (from statsmodels) (24.1)\n",
            "Requirement already satisfied: soupsieve>1.2 in /usr/local/lib/python3.10/dist-packages (from beautifulsoup4>=4.11.1->yfinance) (2.6)\n",
            "Requirement already satisfied: six>=1.9 in /usr/local/lib/python3.10/dist-packages (from html5lib>=1.1->yfinance) (1.16.0)\n",
            "Requirement already satisfied: webencodings in /usr/local/lib/python3.10/dist-packages (from html5lib>=1.1->yfinance) (0.5.1)\n",
            "Requirement already satisfied: charset-normalizer<4,>=2 in /usr/local/lib/python3.10/dist-packages (from requests>=2.31->yfinance) (3.3.2)\n",
            "Requirement already satisfied: idna<4,>=2.5 in /usr/local/lib/python3.10/dist-packages (from requests>=2.31->yfinance) (3.8)\n",
            "Requirement already satisfied: urllib3<3,>=1.21.1 in /usr/local/lib/python3.10/dist-packages (from requests>=2.31->yfinance) (2.0.7)\n",
            "Requirement already satisfied: certifi>=2017.4.17 in /usr/local/lib/python3.10/dist-packages (from requests>=2.31->yfinance) (2024.7.4)\n",
            "Downloading hurst-0.0.5-py3-none-any.whl (5.9 kB)\n",
            "Installing collected packages: hurst\n",
            "Successfully installed hurst-0.0.5\n"
          ]
        }
      ]
    },
    {
      "cell_type": "code",
      "source": [
        "import numpy as np\n",
        "import pandas as pd\n",
        "import yfinance as yf\n",
        "from statsmodels.tsa.stattools import acf\n",
        "from hurst import compute_Hc\n",
        "\n",
        "# Define the stocks\n",
        "tickers = [\"BA\", \"SPGI\"]\n",
        "\n",
        "# Download historical data\n",
        "data = yf.download(tickers, start=\"1974-01-01\", end=\"2024-08-10\")['Adj Close']\n",
        "\n",
        "# Calculate daily returns\n",
        "returns = data.pct_change().dropna()\n",
        "\n",
        "# Initialize dictionaries to store results\n",
        "autocorrelations = {}\n",
        "\n",
        "\n",
        "\n",
        "# Calculate the autocorrelation for a lag of 1 (next-day predictability)\n",
        "for ticker in tickers:\n",
        "    autocorrelations[ticker] = acf(returns[ticker], fft=False, nlags=1)[1]\n",
        "\n",
        "print(\"\\n\\nAutocorrelations:\", autocorrelations)\n"
      ],
      "metadata": {
        "colab": {
          "base_uri": "https://localhost:8080/"
        },
        "id": "sXc8oYL50ePL",
        "outputId": "6c03fc5b-415a-4fb6-dd64-b7527dadb939"
      },
      "execution_count": null,
      "outputs": [
        {
          "output_type": "stream",
          "name": "stderr",
          "text": [
            "\r[                       0%                       ]\r[*********************100%***********************]  2 of 2 completed"
          ]
        },
        {
          "output_type": "stream",
          "name": "stdout",
          "text": [
            "\n",
            "\n",
            "Autocorrelations: {'BA': 0.030451395851408436, 'SPGI': -0.0021603320423785066}\n"
          ]
        },
        {
          "output_type": "stream",
          "name": "stderr",
          "text": [
            "\n"
          ]
        }
      ]
    },
    {
      "cell_type": "markdown",
      "source": [
        "BA has a higher positive autocorrelation than SPGI, it indicates that BA's returns have some dependency on past returns, again suggesting better predictability."
      ],
      "metadata": {
        "id": "mlfT1tay09E9"
      }
    },
    {
      "cell_type": "code",
      "source": [
        "import numpy as np\n",
        "import pandas as pd\n",
        "import yfinance as yf\n",
        "from statsmodels.tsa.stattools import acf\n",
        "from hurst import compute_Hc\n",
        "\n",
        "# Define the stocks\n",
        "tickers = [\"BA\", \"SPGI\"]\n",
        "\n",
        "# Download historical data\n",
        "data = yf.download(tickers, start=\"1974-01-01\", end=\"2024-08-10\")['Adj Close']\n",
        "\n",
        "# Calculate daily returns\n",
        "returns = data.pct_change().dropna()\n",
        "\n",
        "# Initialize dictionaries to store results\n",
        "autocorrelations = {}\n",
        "\n",
        "\n",
        "\n",
        "# Calculate the autocorrelation for a lag of 1 (next-day predictability)\n",
        "for ticker in tickers:\n",
        "    autocorrelations[ticker] = acf(returns[ticker], fft=False, nlags=30)[1]\n",
        "\n",
        "print(\"\\n\\nAutocorrelations:\", autocorrelations)\n"
      ],
      "metadata": {
        "colab": {
          "base_uri": "https://localhost:8080/"
        },
        "id": "RuN2ObY31VAH",
        "outputId": "48417b8a-9221-4426-fe5a-a1fc7bf2073d"
      },
      "execution_count": null,
      "outputs": [
        {
          "output_type": "stream",
          "name": "stderr",
          "text": [
            "\r[                       0%                       ]\r[*********************100%***********************]  2 of 2 completed\n"
          ]
        },
        {
          "output_type": "stream",
          "name": "stdout",
          "text": [
            "\n",
            "\n",
            "Autocorrelations: {'BA': 0.030451395851408436, 'SPGI': -0.0021603320423785066}\n"
          ]
        }
      ]
    },
    {
      "cell_type": "code",
      "source": [],
      "metadata": {
        "id": "BLEKZw_O2bvB"
      },
      "execution_count": null,
      "outputs": []
    }
  ]
}